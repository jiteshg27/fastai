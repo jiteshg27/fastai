{
  "nbformat": 4,
  "nbformat_minor": 0,
  "metadata": {
    "colab": {
      "name": "lesson1.ipynb",
      "version": "0.3.2",
      "provenance": [],
      "collapsed_sections": [
        "DoeDNm47nUVl",
        "1ieLDh_mnUXJ",
        "inb_TZaenUXJ",
        "-lAVToBAnUXR",
        "h4oPKUgRnUXT",
        "BzrwOaT9nUXU",
        "uf52htCgnUXa"
      ],
      "include_colab_link": true
    },
    "kernelspec": {
      "display_name": "Python 3",
      "language": "python",
      "name": "python3"
    },
    "accelerator": "TPU"
  },
  "cells": [
    {
      "cell_type": "markdown",
      "metadata": {
        "id": "view-in-github",
        "colab_type": "text"
      },
      "source": [
        "[View in Colaboratory](https://colab.research.google.com/github/jiteshg27/fastai/blob/ColabChanges/lesson1.ipynb)"
      ]
    },
    {
      "metadata": {
        "id": "JICit3FpomEj",
        "colab_type": "text"
      },
      "cell_type": "markdown",
      "source": [
        "### To cross check if notebook is running on GPU backend"
      ]
    },
    {
      "metadata": {
        "id": "zbsAy3mQo3bp",
        "colab_type": "text"
      },
      "cell_type": "markdown",
      "source": [
        "You should get **'/device:GPU:0'** if notebook is connected to GPU otherwise you will get **' '**"
      ]
    },
    {
      "metadata": {
        "id": "DFM350tOowf1",
        "colab_type": "code",
        "colab": {}
      },
      "cell_type": "code",
      "source": [
        "import tensorflow as tf\n",
        "tf.test.gpu_device_name()"
      ],
      "execution_count": 0,
      "outputs": []
    },
    {
      "metadata": {
        "id": "fYJaohBtn0T6",
        "colab_type": "text"
      },
      "cell_type": "markdown",
      "source": [
        "##Additional Setup for Google Colab"
      ]
    },
    {
      "metadata": {
        "id": "gX4qAYJLoBs8",
        "colab_type": "text"
      },
      "cell_type": "markdown",
      "source": [
        "###Installing Pytorch"
      ]
    },
    {
      "metadata": {
        "id": "9SaTesf4sDlG",
        "colab_type": "code",
        "colab": {}
      },
      "cell_type": "code",
      "source": [
        "#!pip install http://download.pytorch.org/whl/cu80/torch-0.3.0.post4-cp36-cp36m-linux_x86_64.whl && pip install torchvision\n",
        "!pip install http://download.pytorch.org/whl/cu75/torch-0.3.0.post4-cp36-cp36m-linux_x86_64.whl  && pip install torchvision"
      ],
      "execution_count": 0,
      "outputs": []
    },
    {
      "metadata": {
        "id": "XNs7zY9APqfI",
        "colab_type": "text"
      },
      "cell_type": "markdown",
      "source": [
        "###Workaround for an issue with PIL"
      ]
    },
    {
      "metadata": {
        "id": "CatNta1jP0zR",
        "colab_type": "text"
      },
      "cell_type": "markdown",
      "source": [
        "Please refer this [link](http://forums.fast.ai/t/attributeerror-module-pil-image-has-no-attribute-register-extensions/10689/3) for information related to this issue and workaround."
      ]
    },
    {
      "metadata": {
        "id": "oBNSuHHsQG2R",
        "colab_type": "code",
        "colab": {}
      },
      "cell_type": "code",
      "source": [
        "!pip install Pillow==4.0.0\n",
        "!pip install PIL\n",
        "!pip install image"
      ],
      "execution_count": 0,
      "outputs": []
    },
    {
      "metadata": {
        "id": "H7Y97zTktxOY",
        "colab_type": "text"
      },
      "cell_type": "markdown",
      "source": [
        "###Installing fastai"
      ]
    },
    {
      "metadata": {
        "id": "WPjt9Otkt4Pq",
        "colab_type": "code",
        "colab": {}
      },
      "cell_type": "code",
      "source": [
        "!pip install fastai"
      ],
      "execution_count": 0,
      "outputs": []
    },
    {
      "metadata": {
        "id": "SBzhGAububOJ",
        "colab_type": "text"
      },
      "cell_type": "markdown",
      "source": [
        "###Installing libSM"
      ]
    },
    {
      "metadata": {
        "id": "SXTrf1d8uf7I",
        "colab_type": "text"
      },
      "cell_type": "markdown",
      "source": [
        "The import of fastai is will throw an error that this library is missing. So, Installing the same."
      ]
    },
    {
      "metadata": {
        "id": "Mz4epgjBup5b",
        "colab_type": "code",
        "colab": {}
      },
      "cell_type": "code",
      "source": [
        "!apt update && apt install -y libsm6 libxext6"
      ],
      "execution_count": 0,
      "outputs": []
    },
    {
      "metadata": {
        "id": "95KZHwPTvde3",
        "colab_type": "text"
      },
      "cell_type": "markdown",
      "source": [
        "###Downloading the dataset"
      ]
    },
    {
      "metadata": {
        "id": "FJPKhur_wFwc",
        "colab_type": "code",
        "colab": {}
      },
      "cell_type": "code",
      "source": [
        "!mkdir data && wget http://files.fast.ai/data/dogscats.zip && unzip dogscats.zip -d data/"
      ],
      "execution_count": 0,
      "outputs": []
    },
    {
      "metadata": {
        "id": "_TqUbkvOnUUu",
        "colab_type": "text"
      },
      "cell_type": "markdown",
      "source": [
        "## Image classification with Convolutional Neural Networks"
      ]
    },
    {
      "metadata": {
        "id": "zvc9hjiTnUUv",
        "colab_type": "text"
      },
      "cell_type": "markdown",
      "source": [
        "Welcome to the first week of the second deep learning certificate! We're going to use convolutional neural networks (CNNs) to allow our computer to see - something that is only possible thanks to deep learning."
      ]
    },
    {
      "metadata": {
        "id": "LatDXFBYnUUw",
        "colab_type": "text"
      },
      "cell_type": "markdown",
      "source": [
        "## Introduction to our first task: 'Dogs vs Cats'"
      ]
    },
    {
      "metadata": {
        "id": "pwSqHY3RnUUw",
        "colab_type": "text"
      },
      "cell_type": "markdown",
      "source": [
        "We're going to try to create a model to enter the Dogs vs Cats competition at Kaggle. There are 25,000 labelled dog and cat photos available for training, and 12,500 in the test set that we have to try to label for this competition. According to the Kaggle web-site, when this competition was launched (end of 2013): \"State of the art: The current literature suggests machine classifiers can score above 80% accuracy on this task\". So if we can beat 80%, then we will be at the cutting edge as of 2013!"
      ]
    },
    {
      "metadata": {
        "id": "ExvPkf9unUUx",
        "colab_type": "code",
        "colab": {}
      },
      "cell_type": "code",
      "source": [
        "# Put these at the top of every notebook, to get automatic reloading and inline plotting\n",
        "%reload_ext autoreload\n",
        "%autoreload 2\n",
        "%matplotlib inline"
      ],
      "execution_count": 0,
      "outputs": []
    },
    {
      "metadata": {
        "id": "GXFz-SepnUU0",
        "colab_type": "text"
      },
      "cell_type": "markdown",
      "source": [
        "Here we import the libraries we need. We'll learn about what each does during the course."
      ]
    },
    {
      "metadata": {
        "id": "pne3H32snUU1",
        "colab_type": "code",
        "colab": {}
      },
      "cell_type": "code",
      "source": [
        "# This file contains all the main external libs we'll use\n",
        "from fastai.imports import *"
      ],
      "execution_count": 0,
      "outputs": []
    },
    {
      "metadata": {
        "id": "b9uR8DZEnUU3",
        "colab_type": "code",
        "colab": {}
      },
      "cell_type": "code",
      "source": [
        "from fastai.transforms import *\n",
        "from fastai.conv_learner import *\n",
        "from fastai.model import *\n",
        "from fastai.dataset import *\n",
        "from fastai.sgdr import *\n",
        "from fastai.plots import *"
      ],
      "execution_count": 0,
      "outputs": []
    },
    {
      "metadata": {
        "id": "JYqcdOlknUU5",
        "colab_type": "code",
        "colab": {}
      },
      "cell_type": "code",
      "source": [
        "PATH = \"data/dogscats/\""
      ],
      "execution_count": 0,
      "outputs": []
    },
    {
      "metadata": {
        "id": "7dOKVK16nUU8",
        "colab_type": "code",
        "colab": {}
      },
      "cell_type": "code",
      "source": [
        "sz=224"
      ],
      "execution_count": 0,
      "outputs": []
    },
    {
      "metadata": {
        "id": "ao-e43VonUU-",
        "colab_type": "text"
      },
      "cell_type": "markdown",
      "source": [
        "### Extra steps if NOT using Crestle or our scripts"
      ]
    },
    {
      "metadata": {
        "id": "OAeXBzkFnUU_",
        "colab_type": "text"
      },
      "cell_type": "markdown",
      "source": [
        "The dataset is available at http://files.fast.ai/data/dogscats.zip. You can download it directly on your server by running the following line in your terminal. `wget http://files.fast.ai/data/dogscats.zip`. You should put the data in a subdirectory of this notebook's directory, called `data/`."
      ]
    },
    {
      "metadata": {
        "id": "O5cuJny6nUVA",
        "colab_type": "text"
      },
      "cell_type": "markdown",
      "source": [
        "### Extra steps if using Crestle"
      ]
    },
    {
      "metadata": {
        "id": "INUN_u4onUVB",
        "colab_type": "text"
      },
      "cell_type": "markdown",
      "source": [
        "Crestle has the datasets required for fast.ai in /datasets, so we'll create symlinks to the data we want for this competition. (NB: we can't write to /datasets, but we need a place to store temporary files, so we create our own writable directory to put the symlinks in, and we also take advantage of Crestle's `/cache/` faster temporary storage space.)\n",
        "\n",
        "To run these commands (**which you should only do if using Crestle**) remove the `#` characters from the start of each line."
      ]
    },
    {
      "metadata": {
        "id": "OWieU7jAnUVB",
        "colab_type": "code",
        "colab": {}
      },
      "cell_type": "code",
      "source": [
        "# os.makedirs('data/dogscats/models', exist_ok=True)\n",
        "\n",
        "# !ln -s /datasets/fast.ai/dogscats/train {PATH}\n",
        "# !ln -s /datasets/fast.ai/dogscats/test {PATH}\n",
        "# !ln -s /datasets/fast.ai/dogscats/valid {PATH}\n",
        "\n",
        "# os.makedirs('/cache/tmp', exist_ok=True)\n",
        "# !ln -fs /cache/tmp {PATH}"
      ],
      "execution_count": 0,
      "outputs": []
    },
    {
      "metadata": {
        "id": "lsGdM01XnUVE",
        "colab_type": "code",
        "colab": {}
      },
      "cell_type": "code",
      "source": [
        "# os.makedirs('/cache/tmp', exist_ok=True)\n",
        "# !ln -fs /cache/tmp {PATH}"
      ],
      "execution_count": 0,
      "outputs": []
    },
    {
      "metadata": {
        "id": "4wZye0v1nUVG",
        "colab_type": "text"
      },
      "cell_type": "markdown",
      "source": [
        "## First look at cat pictures"
      ]
    },
    {
      "metadata": {
        "id": "tYmIUUwCnUVH",
        "colab_type": "text"
      },
      "cell_type": "markdown",
      "source": [
        "Our library will assume that you have *train* and *valid* directories. It also assumes that each dir will have subdirs for each class you wish to recognize (in this case, 'cats' and 'dogs')."
      ]
    },
    {
      "metadata": {
        "id": "SWyCQjVvnUVI",
        "colab_type": "code",
        "colab": {}
      },
      "cell_type": "code",
      "source": [
        "!ls {PATH}"
      ],
      "execution_count": 0,
      "outputs": []
    },
    {
      "metadata": {
        "id": "6JhuVmBhnUVL",
        "colab_type": "code",
        "colab": {}
      },
      "cell_type": "code",
      "source": [
        "!ls {PATH}valid"
      ],
      "execution_count": 0,
      "outputs": []
    },
    {
      "metadata": {
        "id": "raimY4qYnUVO",
        "colab_type": "code",
        "colab": {}
      },
      "cell_type": "code",
      "source": [
        "files = !ls {PATH}valid/cats | head\n",
        "files"
      ],
      "execution_count": 0,
      "outputs": []
    },
    {
      "metadata": {
        "id": "1Kg_Gs6enUVR",
        "colab_type": "code",
        "colab": {}
      },
      "cell_type": "code",
      "source": [
        "img = plt.imread(f'{PATH}valid/cats/{files[0]}')\n",
        "plt.imshow(img);"
      ],
      "execution_count": 0,
      "outputs": []
    },
    {
      "metadata": {
        "id": "ANPZx7yOnUVU",
        "colab_type": "text"
      },
      "cell_type": "markdown",
      "source": [
        "Here is how the raw data looks like"
      ]
    },
    {
      "metadata": {
        "id": "HBmqcqTVnUVU",
        "colab_type": "code",
        "colab": {}
      },
      "cell_type": "code",
      "source": [
        "img.shape"
      ],
      "execution_count": 0,
      "outputs": []
    },
    {
      "metadata": {
        "id": "5StaPaK8nUVX",
        "colab_type": "code",
        "colab": {}
      },
      "cell_type": "code",
      "source": [
        "img[:4,:4]"
      ],
      "execution_count": 0,
      "outputs": []
    },
    {
      "metadata": {
        "id": "te91XUAOnUVb",
        "colab_type": "text"
      },
      "cell_type": "markdown",
      "source": [
        "## Our first model: quick start"
      ]
    },
    {
      "metadata": {
        "id": "yjiqo0p1nUVc",
        "colab_type": "text"
      },
      "cell_type": "markdown",
      "source": [
        "We're going to use a <b>pre-trained</b> model, that is, a model created by some one else to solve a different problem. Instead of building a model from scratch to solve a similar problem, we'll use a model trained on ImageNet (1.2 million images and 1000 classes) as a starting point. The model is a Convolutional Neural Network (CNN), a type of Neural Network that builds state-of-the-art models for computer vision. We'll be learning all about CNNs during this course.\n",
        "\n",
        "We will be using the <b>resnet34</b> model. resnet34 is a version of the model that won the 2015 ImageNet competition. Here is more info on [resnet models](https://github.com/KaimingHe/deep-residual-networks). We'll be studying them in depth later, but for now we'll focus on using them effectively.\n",
        "\n",
        "Here's how to train and evalulate a *dogs vs cats* model in 3 lines of code, and under 20 seconds:"
      ]
    },
    {
      "metadata": {
        "id": "AIHTk61znUVd",
        "colab_type": "code",
        "colab": {}
      },
      "cell_type": "code",
      "source": [
        "# Uncomment the below if you need to reset your precomputed activations\n",
        "!rm -rf {PATH}tmp"
      ],
      "execution_count": 0,
      "outputs": []
    },
    {
      "metadata": {
        "id": "DVEf37HwnUVg",
        "colab_type": "code",
        "colab": {}
      },
      "cell_type": "code",
      "source": [
        "arch=resnet34\n",
        "data = ImageClassifierData.from_paths(PATH, tfms=tfms_from_model(arch, sz), bs=32)\n",
        "learn = ConvLearner.pretrained(arch, data, precompute=True)\n",
        "learn.fit(0.01, 3)"
      ],
      "execution_count": 0,
      "outputs": []
    },
    {
      "metadata": {
        "id": "0k0F7-AanUVk",
        "colab_type": "text"
      },
      "cell_type": "markdown",
      "source": [
        "How good is this model? Well, as we mentioned, prior to this competition, the state of the art was 80% accuracy. But the competition resulted in a huge jump to 98.9% accuracy, with the author of a popular deep learning library winning the competition. Extraordinarily, less than 4 years later, we can now beat that result in seconds! Even last year in this same course, our initial model had 98.3% accuracy, which is nearly double the error we're getting just a year later, and that took around 10 minutes to compute."
      ]
    },
    {
      "metadata": {
        "id": "DoeDNm47nUVl",
        "colab_type": "text"
      },
      "cell_type": "markdown",
      "source": [
        "## Analyzing results: looking at pictures"
      ]
    },
    {
      "metadata": {
        "id": "iAtbso86nUVm",
        "colab_type": "text"
      },
      "cell_type": "markdown",
      "source": [
        "As well as looking at the overall metrics, it's also a good idea to look at examples of each of:\n",
        "1. A few correct labels at random\n",
        "2. A few incorrect labels at random\n",
        "3. The most correct labels of each class (ie those with highest probability that are correct)\n",
        "4. The most incorrect labels of each class (ie those with highest probability that are incorrect)\n",
        "5. The most uncertain labels (ie those with probability closest to 0.5)."
      ]
    },
    {
      "metadata": {
        "id": "HbVVDllbnUVn",
        "colab_type": "code",
        "colab": {}
      },
      "cell_type": "code",
      "source": [
        "# This is the label for a val data\n",
        "data.val_y"
      ],
      "execution_count": 0,
      "outputs": []
    },
    {
      "metadata": {
        "id": "OzgsDWBxnUVr",
        "colab_type": "code",
        "colab": {}
      },
      "cell_type": "code",
      "source": [
        "# from here we know that 'cats' is label 0 and 'dogs' is label 1.\n",
        "data.classes"
      ],
      "execution_count": 0,
      "outputs": []
    },
    {
      "metadata": {
        "id": "N4Ub0JUvnUVt",
        "colab_type": "code",
        "colab": {}
      },
      "cell_type": "code",
      "source": [
        "# this gives prediction for validation set. Predictions are in log scale\n",
        "log_preds = learn.predict()\n",
        "log_preds.shape"
      ],
      "execution_count": 0,
      "outputs": []
    },
    {
      "metadata": {
        "id": "O1E54RFdnUVv",
        "colab_type": "code",
        "colab": {}
      },
      "cell_type": "code",
      "source": [
        "log_preds[:10]"
      ],
      "execution_count": 0,
      "outputs": []
    },
    {
      "metadata": {
        "id": "0D2IG4jbnUVy",
        "colab_type": "code",
        "colab": {}
      },
      "cell_type": "code",
      "source": [
        "preds = np.argmax(log_preds, axis=1)  # from log probabilities to 0 or 1\n",
        "probs = np.exp(log_preds[:,1])        # pr(dog)"
      ],
      "execution_count": 0,
      "outputs": []
    },
    {
      "metadata": {
        "id": "O5GckYKznUV0",
        "colab_type": "code",
        "colab": {}
      },
      "cell_type": "code",
      "source": [
        "def rand_by_mask(mask): return np.random.choice(np.where(mask)[0], 4, replace=False)\n",
        "def rand_by_correct(is_correct): return rand_by_mask((preds == data.val_y)==is_correct)"
      ],
      "execution_count": 0,
      "outputs": []
    },
    {
      "metadata": {
        "id": "ov7jbblfnUV1",
        "colab_type": "code",
        "colab": {}
      },
      "cell_type": "code",
      "source": [
        "def plot_val_with_title(idxs, title):\n",
        "    imgs = np.stack([data.val_ds[x][0] for x in idxs])\n",
        "    title_probs = [probs[x] for x in idxs]\n",
        "    print(title)\n",
        "    return plots(data.val_ds.denorm(imgs), rows=1, titles=title_probs)"
      ],
      "execution_count": 0,
      "outputs": []
    },
    {
      "metadata": {
        "id": "-Gu2kcDwnUV3",
        "colab_type": "code",
        "colab": {}
      },
      "cell_type": "code",
      "source": [
        "def plots(ims, figsize=(12,6), rows=1, titles=None):\n",
        "    f = plt.figure(figsize=figsize)\n",
        "    for i in range(len(ims)):\n",
        "        sp = f.add_subplot(rows, len(ims)//rows, i+1)\n",
        "        sp.axis('Off')\n",
        "        if titles is not None: sp.set_title(titles[i], fontsize=16)\n",
        "        plt.imshow(ims[i])"
      ],
      "execution_count": 0,
      "outputs": []
    },
    {
      "metadata": {
        "id": "wugR-QFLnUV5",
        "colab_type": "code",
        "colab": {}
      },
      "cell_type": "code",
      "source": [
        "def load_img_id(ds, idx): return np.array(PIL.Image.open(PATH+ds.fnames[idx]))\n",
        "\n",
        "def plot_val_with_title(idxs, title):\n",
        "    imgs = [load_img_id(data.val_ds,x) for x in idxs]\n",
        "    title_probs = [probs[x] for x in idxs]\n",
        "    print(title)\n",
        "    return plots(imgs, rows=1, titles=title_probs, figsize=(16,8))"
      ],
      "execution_count": 0,
      "outputs": []
    },
    {
      "metadata": {
        "id": "rKZaB4MlnUV7",
        "colab_type": "code",
        "colab": {}
      },
      "cell_type": "code",
      "source": [
        "# 1. A few correct labels at random\n",
        "plot_val_with_title(rand_by_correct(True), \"Correctly classified\")"
      ],
      "execution_count": 0,
      "outputs": []
    },
    {
      "metadata": {
        "id": "vIncueLBnUV_",
        "colab_type": "code",
        "colab": {}
      },
      "cell_type": "code",
      "source": [
        "# 2. A few incorrect labels at random\n",
        "plot_val_with_title(rand_by_correct(False), \"Incorrectly classified\")"
      ],
      "execution_count": 0,
      "outputs": []
    },
    {
      "metadata": {
        "id": "_OA1SNH0nUWC",
        "colab_type": "code",
        "colab": {}
      },
      "cell_type": "code",
      "source": [
        "def most_by_mask(mask, mult):\n",
        "    idxs = np.where(mask)[0]\n",
        "    return idxs[np.argsort(mult * probs[idxs])[:4]]\n",
        "\n",
        "def most_by_correct(y, is_correct): \n",
        "    mult = -1 if (y==1)==is_correct else 1\n",
        "    return most_by_mask((preds == data.val_y)==is_correct & (data.val_y == y), mult)"
      ],
      "execution_count": 0,
      "outputs": []
    },
    {
      "metadata": {
        "id": "qtGgIHoMnUWF",
        "colab_type": "code",
        "colab": {}
      },
      "cell_type": "code",
      "source": [
        "plot_val_with_title(most_by_correct(0, True), \"Most correct cats\")"
      ],
      "execution_count": 0,
      "outputs": []
    },
    {
      "metadata": {
        "id": "k0zhBMNJnUWH",
        "colab_type": "code",
        "colab": {}
      },
      "cell_type": "code",
      "source": [
        "plot_val_with_title(most_by_correct(1, True), \"Most correct dogs\")"
      ],
      "execution_count": 0,
      "outputs": []
    },
    {
      "metadata": {
        "id": "sE7_oSPznUWJ",
        "colab_type": "code",
        "colab": {}
      },
      "cell_type": "code",
      "source": [
        "plot_val_with_title(most_by_correct(0, False), \"Most incorrect cats\")"
      ],
      "execution_count": 0,
      "outputs": []
    },
    {
      "metadata": {
        "id": "V48MOQmDnUWM",
        "colab_type": "code",
        "colab": {}
      },
      "cell_type": "code",
      "source": [
        "plot_val_with_title(most_by_correct(1, False), \"Most incorrect dogs\")"
      ],
      "execution_count": 0,
      "outputs": []
    },
    {
      "metadata": {
        "id": "QCmVyEIenUWP",
        "colab_type": "code",
        "colab": {}
      },
      "cell_type": "code",
      "source": [
        "most_uncertain = np.argsort(np.abs(probs -0.5))[:4]\n",
        "plot_val_with_title(most_uncertain, \"Most uncertain predictions\")"
      ],
      "execution_count": 0,
      "outputs": []
    },
    {
      "metadata": {
        "id": "93_X1xjknUWT",
        "colab_type": "text"
      },
      "cell_type": "markdown",
      "source": [
        "## Choosing a learning rate"
      ]
    },
    {
      "metadata": {
        "id": "s_w0kHConUWU",
        "colab_type": "text"
      },
      "cell_type": "markdown",
      "source": [
        "The *learning rate* determines how quickly or how slowly you want to update the *weights* (or *parameters*). Learning rate is one of the most difficult parameters to set, because it significantly affect model performance.\n",
        "\n",
        "The method `learn.lr_find()` helps you find an optimal learning rate. It uses the technique developed in the 2015 paper [Cyclical Learning Rates for Training Neural Networks](http://arxiv.org/abs/1506.01186), where we simply keep increasing the learning rate from a very small value, until the loss starts decreasing. We can plot the learning rate across batches to see what this looks like.\n",
        "\n",
        "We first create a new learner, since we want to know how to set the learning rate for a new (untrained) model."
      ]
    },
    {
      "metadata": {
        "id": "NJVSfT4DnUWV",
        "colab_type": "code",
        "colab": {}
      },
      "cell_type": "code",
      "source": [
        "learn = ConvLearner.pretrained(arch, data, precompute=True)"
      ],
      "execution_count": 0,
      "outputs": []
    },
    {
      "metadata": {
        "id": "f1NxXQ_2nUWY",
        "colab_type": "code",
        "colab": {}
      },
      "cell_type": "code",
      "source": [
        "lrf=learn.lr_find()"
      ],
      "execution_count": 0,
      "outputs": []
    },
    {
      "metadata": {
        "id": "P-__4ROPnUWa",
        "colab_type": "text"
      },
      "cell_type": "markdown",
      "source": [
        "Our `learn` object contains an attribute `sched` that contains our learning rate scheduler, and has some convenient plotting functionality including this one:"
      ]
    },
    {
      "metadata": {
        "id": "nxIrcWpAnUWa",
        "colab_type": "code",
        "colab": {}
      },
      "cell_type": "code",
      "source": [
        "learn.sched.plot_lr()"
      ],
      "execution_count": 0,
      "outputs": []
    },
    {
      "metadata": {
        "id": "gad4yW_0nUWd",
        "colab_type": "text"
      },
      "cell_type": "markdown",
      "source": [
        "Note that in the previous plot *iteration* is one iteration (or *minibatch*) of SGD. In one epoch there are \n",
        "(num_train_samples/num_iterations) of SGD.\n",
        "\n",
        "We can see the plot of loss versus learning rate to see where our loss stops decreasing:"
      ]
    },
    {
      "metadata": {
        "id": "giEFK79FnUWd",
        "colab_type": "code",
        "colab": {}
      },
      "cell_type": "code",
      "source": [
        "learn.sched.plot()"
      ],
      "execution_count": 0,
      "outputs": []
    },
    {
      "metadata": {
        "id": "jfhAZc-bnUWh",
        "colab_type": "text"
      },
      "cell_type": "markdown",
      "source": [
        "The loss is still clearly improving at lr=1e-2 (0.01), so that's what we use. Note that the optimal learning rate can change as we training the model, so you may want to re-run this function from time to time."
      ]
    },
    {
      "metadata": {
        "id": "_C7ec28pnUWh",
        "colab_type": "text"
      },
      "cell_type": "markdown",
      "source": [
        "## Improving our model"
      ]
    },
    {
      "metadata": {
        "id": "bLrVOZq9nUWi",
        "colab_type": "text"
      },
      "cell_type": "markdown",
      "source": [
        "### Data augmentation"
      ]
    },
    {
      "metadata": {
        "id": "mMYRBdYRnUWi",
        "colab_type": "text"
      },
      "cell_type": "markdown",
      "source": [
        "If you try training for more epochs, you'll notice that we start to *overfit*, which means that our model is learning to recognize the specific images in the training set, rather than generalizaing such that we also get good results on the validation set. One way to fix this is to effectively create more data, through *data augmentation*. This refers to randomly changing the images in ways that shouldn't impact their interpretation, such as horizontal flipping, zooming, and rotating.\n",
        "\n",
        "We can do this by passing `aug_tfms` (*augmentation transforms*) to `tfms_from_model`, with a list of functions to apply that randomly change the image however we wish. For photos that are largely taken from the side (e.g. most photos of dogs and cats, as opposed to photos taken from the top down, such as satellite imagery) we can use the pre-defined list of functions `transforms_side_on`. We can also specify random zooming of images up to specified scale by adding the `max_zoom` parameter."
      ]
    },
    {
      "metadata": {
        "id": "TdjrRvcjnUWi",
        "colab_type": "code",
        "colab": {}
      },
      "cell_type": "code",
      "source": [
        "tfms = tfms_from_model(resnet34, sz, aug_tfms=transforms_side_on, max_zoom=1.1)"
      ],
      "execution_count": 0,
      "outputs": []
    },
    {
      "metadata": {
        "id": "vtKG2AAmnUWk",
        "colab_type": "code",
        "colab": {}
      },
      "cell_type": "code",
      "source": [
        "def get_augs():\n",
        "    data = ImageClassifierData.from_paths(PATH, bs=2, tfms=tfms, num_workers=1)\n",
        "    x,_ = next(iter(data.aug_dl))\n",
        "    return data.trn_ds.denorm(x)[1]"
      ],
      "execution_count": 0,
      "outputs": []
    },
    {
      "metadata": {
        "id": "Cfnx5InznUWm",
        "colab_type": "code",
        "colab": {}
      },
      "cell_type": "code",
      "source": [
        "ims = np.stack([get_augs() for i in range(6)])"
      ],
      "execution_count": 0,
      "outputs": []
    },
    {
      "metadata": {
        "id": "4OywErMVnUWo",
        "colab_type": "code",
        "colab": {}
      },
      "cell_type": "code",
      "source": [
        "plots(ims, rows=2)"
      ],
      "execution_count": 0,
      "outputs": []
    },
    {
      "metadata": {
        "id": "gFqyO01InUWq",
        "colab_type": "text"
      },
      "cell_type": "markdown",
      "source": [
        "Let's create a new `data` object that includes this augmentation in the transforms."
      ]
    },
    {
      "metadata": {
        "id": "NIpsM735nUWr",
        "colab_type": "code",
        "colab": {}
      },
      "cell_type": "code",
      "source": [
        "data = ImageClassifierData.from_paths(PATH, tfms=tfms, bs=128)\n",
        "learn = ConvLearner.pretrained(arch, data, precompute=True)"
      ],
      "execution_count": 0,
      "outputs": []
    },
    {
      "metadata": {
        "id": "GhL22prQnUWs",
        "colab_type": "code",
        "colab": {}
      },
      "cell_type": "code",
      "source": [
        "learn.fit(1e-2, 1)"
      ],
      "execution_count": 0,
      "outputs": []
    },
    {
      "metadata": {
        "id": "xM-u1qCsnUWu",
        "colab_type": "code",
        "colab": {}
      },
      "cell_type": "code",
      "source": [
        "learn.precompute=False"
      ],
      "execution_count": 0,
      "outputs": []
    },
    {
      "metadata": {
        "id": "Flob4T8wnUWv",
        "colab_type": "text"
      },
      "cell_type": "markdown",
      "source": [
        "By default when we create a learner, it sets all but the last layer to *frozen*. That means that it's still only updating the weights in the last layer when we call `fit`."
      ]
    },
    {
      "metadata": {
        "id": "3c_89ti9nUWw",
        "colab_type": "code",
        "colab": {}
      },
      "cell_type": "code",
      "source": [
        "learn.fit(1e-2, 3, cycle_len=1)"
      ],
      "execution_count": 0,
      "outputs": []
    },
    {
      "metadata": {
        "id": "IIdDDq0TnUWx",
        "colab_type": "text"
      },
      "cell_type": "markdown",
      "source": [
        "What is that `cycle_len` parameter? What we've done here is used a technique called *stochastic gradient descent with restarts (SGDR)*, a variant of *learning rate annealing*, which gradually decreases the learning rate as training progresses. This is helpful because as we get closer to the optimal weights, we want to take smaller steps.\n",
        "\n",
        "However, we may find ourselves in a part of the weight space that isn't very resilient - that is, small changes to the weights may result in big changes to the loss. We want to encourage our model to find parts of the weight space that are both accurate and stable. Therefore, from time to time we increase the learning rate (this is the 'restarts' in 'SGDR'), which will force the model to jump to a different part of the weight space if the current area is \"spikey\". Here's a picture of how that might look if we reset the learning rates 3 times (in this paper they call it a \"cyclic LR schedule\"):\n",
        "\n",
        "<img src=\"images/sgdr.png\" width=\"80%\">\n",
        "(From the paper [Snapshot Ensembles](https://arxiv.org/abs/1704.00109)).\n",
        "\n",
        "The number of epochs between resetting the learning rate is set by `cycle_len`, and the number of times this happens is refered to as the *number of cycles*, and is what we're actually passing as the 2nd parameter to `fit()`. So here's what our actual learning rates looked like:"
      ]
    },
    {
      "metadata": {
        "id": "6JYC2qUonUWx",
        "colab_type": "code",
        "colab": {}
      },
      "cell_type": "code",
      "source": [
        "learn.sched.plot_lr()"
      ],
      "execution_count": 0,
      "outputs": []
    },
    {
      "metadata": {
        "id": "-dThxBKfnUWz",
        "colab_type": "text"
      },
      "cell_type": "markdown",
      "source": [
        "Our validation loss isn't improving much, so there's probably no point further training the last layer on its own."
      ]
    },
    {
      "metadata": {
        "id": "-h49qs8qnUWz",
        "colab_type": "text"
      },
      "cell_type": "markdown",
      "source": [
        "Since we've got a pretty good model at this point, we might want to save it so we can load it again later without training it from scratch."
      ]
    },
    {
      "metadata": {
        "id": "SW76VSoQnUWz",
        "colab_type": "code",
        "colab": {}
      },
      "cell_type": "code",
      "source": [
        "learn.save('224_lastlayer')"
      ],
      "execution_count": 0,
      "outputs": []
    },
    {
      "metadata": {
        "id": "v1SA8QKcnUW0",
        "colab_type": "code",
        "colab": {}
      },
      "cell_type": "code",
      "source": [
        "learn.load('224_lastlayer')"
      ],
      "execution_count": 0,
      "outputs": []
    },
    {
      "metadata": {
        "id": "-Gfj1uQBnUW2",
        "colab_type": "text"
      },
      "cell_type": "markdown",
      "source": [
        "### Fine-tuning and differential learning rate annealing"
      ]
    },
    {
      "metadata": {
        "id": "lnjaUNEMnUW2",
        "colab_type": "text"
      },
      "cell_type": "markdown",
      "source": [
        "Now that we have a good final layer trained, we can try fine-tuning the other layers. To tell the learner that we want to unfreeze the remaining layers, just call (surprise surprise!) `unfreeze()`."
      ]
    },
    {
      "metadata": {
        "id": "uKsIPBiqnUW2",
        "colab_type": "code",
        "colab": {}
      },
      "cell_type": "code",
      "source": [
        "learn.unfreeze()"
      ],
      "execution_count": 0,
      "outputs": []
    },
    {
      "metadata": {
        "id": "1JReVHqinUW5",
        "colab_type": "text"
      },
      "cell_type": "markdown",
      "source": [
        "Note that the other layers have *already* been trained to recognize imagenet photos (whereas our final layers where randomly initialized), so we want to be careful of not destroying the carefully tuned weights that are already there.\n",
        "\n",
        "Generally speaking, the earlier layers (as we've seen) have more general-purpose features. Therefore we would expect them to need less fine-tuning for new datasets. For this reason we will use different learning rates for different layers: the first few layers will be at 1e-4, the middle layers at 1e-3, and our FC layers we'll leave at 1e-2 as before. We refer to this as *differential learning rates*, although there's no standard name for this techique in the literature that we're aware of."
      ]
    },
    {
      "metadata": {
        "id": "yUzc8SZ7nUW6",
        "colab_type": "code",
        "colab": {}
      },
      "cell_type": "code",
      "source": [
        "lr=np.array([1e-4,1e-3,1e-2])"
      ],
      "execution_count": 0,
      "outputs": []
    },
    {
      "metadata": {
        "id": "VS5t1YpInUW8",
        "colab_type": "code",
        "colab": {}
      },
      "cell_type": "code",
      "source": [
        "learn.fit(lr, 3, cycle_len=1, cycle_mult=2)"
      ],
      "execution_count": 0,
      "outputs": []
    },
    {
      "metadata": {
        "id": "b3foh59ynUW_",
        "colab_type": "text"
      },
      "cell_type": "markdown",
      "source": [
        "Another trick we've used here is adding the `cycle_mult` parameter. Take a look at the following chart, and see if you can figure out what the parameter is doing:"
      ]
    },
    {
      "metadata": {
        "id": "195rrvTbnUW_",
        "colab_type": "code",
        "colab": {}
      },
      "cell_type": "code",
      "source": [
        "learn.sched.plot_lr()"
      ],
      "execution_count": 0,
      "outputs": []
    },
    {
      "metadata": {
        "id": "q904pi_InUXA",
        "colab_type": "text"
      },
      "cell_type": "markdown",
      "source": [
        "Note that's what being plotted above is the learning rate of the *final layers*. The learning rates of the earlier layers are fixed at the same multiples of the final layer rates as we initially requested (i.e. the first layers have 100x smaller, and middle layers 10x smaller learning rates, since we set `lr=np.array([1e-4,1e-3,1e-2])`."
      ]
    },
    {
      "metadata": {
        "id": "7fjTxRTFnUXB",
        "colab_type": "code",
        "colab": {}
      },
      "cell_type": "code",
      "source": [
        "learn.save('224_all')"
      ],
      "execution_count": 0,
      "outputs": []
    },
    {
      "metadata": {
        "id": "ncn6MM96nUXC",
        "colab_type": "code",
        "colab": {}
      },
      "cell_type": "code",
      "source": [
        "learn.load('224_all')"
      ],
      "execution_count": 0,
      "outputs": []
    },
    {
      "metadata": {
        "id": "s6zZsYkznUXE",
        "colab_type": "text"
      },
      "cell_type": "markdown",
      "source": [
        "There is something else we can do with data augmentation: use it at *inference* time (also known as *test* time). Not surprisingly, this is known as *test time augmentation*, or just *TTA*.\n",
        "\n",
        "TTA simply makes predictions not just on the images in your validation set, but also makes predictions on a number of randomly augmented versions of them too (by default, it uses the original image along with 4 randomly augmented versions). It then takes the average prediction from these images, and uses that. To use TTA on the validation set, we can use the learner's `TTA()` method."
      ]
    },
    {
      "metadata": {
        "id": "o2Fp8ABynUXF",
        "colab_type": "code",
        "colab": {}
      },
      "cell_type": "code",
      "source": [
        "log_preds,y = learn.TTA()\n",
        "probs = np.mean(np.exp(log_preds),0)"
      ],
      "execution_count": 0,
      "outputs": []
    },
    {
      "metadata": {
        "id": "uJD9QmTPnUXG",
        "colab_type": "code",
        "colab": {}
      },
      "cell_type": "code",
      "source": [
        "accuracy(probs, y)"
      ],
      "execution_count": 0,
      "outputs": []
    },
    {
      "metadata": {
        "id": "BnVAkNM4nUXI",
        "colab_type": "text"
      },
      "cell_type": "markdown",
      "source": [
        "I generally see about a 10-20% reduction in error on this dataset when using TTA at this point, which is an amazing result for such a quick and easy technique!"
      ]
    },
    {
      "metadata": {
        "id": "6qPh_l0eGNKl",
        "colab_type": "text"
      },
      "cell_type": "markdown",
      "source": [
        ""
      ]
    },
    {
      "metadata": {
        "id": "1ieLDh_mnUXJ",
        "colab_type": "text"
      },
      "cell_type": "markdown",
      "source": [
        "## Analyzing results"
      ]
    },
    {
      "metadata": {
        "id": "inb_TZaenUXJ",
        "colab_type": "text"
      },
      "cell_type": "markdown",
      "source": [
        "### Confusion matrix "
      ]
    },
    {
      "metadata": {
        "id": "4HwlDF4qnUXK",
        "colab_type": "code",
        "colab": {}
      },
      "cell_type": "code",
      "source": [
        "preds = np.argmax(probs, axis=1)\n",
        "probs = probs[:,1]"
      ],
      "execution_count": 0,
      "outputs": []
    },
    {
      "metadata": {
        "id": "LpoZ9YbanUXL",
        "colab_type": "text"
      },
      "cell_type": "markdown",
      "source": [
        "A common way to analyze the result of a classification model is to use a [confusion matrix](http://www.dataschool.io/simple-guide-to-confusion-matrix-terminology/). Scikit-learn has a convenient function we can use for this purpose:"
      ]
    },
    {
      "metadata": {
        "id": "SXhYRbuXnUXL",
        "colab_type": "code",
        "colab": {}
      },
      "cell_type": "code",
      "source": [
        "from sklearn.metrics import confusion_matrix\n",
        "cm = confusion_matrix(y, preds)"
      ],
      "execution_count": 0,
      "outputs": []
    },
    {
      "metadata": {
        "id": "1LU779PgnUXO",
        "colab_type": "text"
      },
      "cell_type": "markdown",
      "source": [
        "We can just print out the confusion matrix, or we can show a graphical view (which is mainly useful for dependents with a larger number of categories)."
      ]
    },
    {
      "metadata": {
        "id": "sBUxHL8anUXO",
        "colab_type": "code",
        "colab": {}
      },
      "cell_type": "code",
      "source": [
        "plot_confusion_matrix(cm, data.classes)"
      ],
      "execution_count": 0,
      "outputs": []
    },
    {
      "metadata": {
        "id": "-lAVToBAnUXR",
        "colab_type": "text"
      },
      "cell_type": "markdown",
      "source": [
        "### Looking at pictures again"
      ]
    },
    {
      "metadata": {
        "id": "SwSkjmccnUXR",
        "colab_type": "code",
        "colab": {}
      },
      "cell_type": "code",
      "source": [
        "plot_val_with_title(most_by_correct(0, False), \"Most incorrect cats\")"
      ],
      "execution_count": 0,
      "outputs": []
    },
    {
      "metadata": {
        "id": "omAql1agnUXS",
        "colab_type": "code",
        "colab": {}
      },
      "cell_type": "code",
      "source": [
        "plot_val_with_title(most_by_correct(1, False), \"Most incorrect dogs\")"
      ],
      "execution_count": 0,
      "outputs": []
    },
    {
      "metadata": {
        "id": "h4oPKUgRnUXT",
        "colab_type": "text"
      },
      "cell_type": "markdown",
      "source": [
        "## Review: easy steps to train a world-class image classifier"
      ]
    },
    {
      "metadata": {
        "id": "ld67Zj_9nUXT",
        "colab_type": "text"
      },
      "cell_type": "markdown",
      "source": [
        "1. Enable data augmentation, and precompute=True\n",
        "1. Use `lr_find()` to find highest learning rate where loss is still clearly improving\n",
        "1. Train last layer from precomputed activations for 1-2 epochs\n",
        "1. Train last layer with data augmentation (i.e. precompute=False) for 2-3 epochs with cycle_len=1\n",
        "1. Unfreeze all layers\n",
        "1. Set earlier layers to 3x-10x lower learning rate than next higher layer\n",
        "1. Use `lr_find()` again\n",
        "1. Train full network with cycle_mult=2 until over-fitting"
      ]
    },
    {
      "metadata": {
        "id": "BzrwOaT9nUXU",
        "colab_type": "text"
      },
      "cell_type": "markdown",
      "source": [
        "## Understanding the code for our first model"
      ]
    },
    {
      "metadata": {
        "id": "uKgfvVkqnUXU",
        "colab_type": "text"
      },
      "cell_type": "markdown",
      "source": [
        "Let's look at the Dogs v Cats code line by line.\n",
        "\n",
        "**tfms** stands for *transformations*. `tfms_from_model` takes care of resizing, image cropping, initial normalization (creating data with (mean,stdev) of (0,1)), and more."
      ]
    },
    {
      "metadata": {
        "id": "sMU7t5R4nUXU",
        "colab_type": "code",
        "colab": {}
      },
      "cell_type": "code",
      "source": [
        "tfms = tfms_from_model(resnet34, sz)"
      ],
      "execution_count": 0,
      "outputs": []
    },
    {
      "metadata": {
        "id": "QoSfhsQAnUXW",
        "colab_type": "text"
      },
      "cell_type": "markdown",
      "source": [
        "We need a <b>path</b> that points to the dataset. In this path we will also store temporary data and final results. `ImageClassifierData.from_paths` reads data from a provided path and creates a dataset ready for training."
      ]
    },
    {
      "metadata": {
        "id": "BepY0wPtnUXX",
        "colab_type": "code",
        "colab": {}
      },
      "cell_type": "code",
      "source": [
        "data = ImageClassifierData.from_paths(PATH, tfms=tfms)"
      ],
      "execution_count": 0,
      "outputs": []
    },
    {
      "metadata": {
        "id": "nTflS07QnUXX",
        "colab_type": "text"
      },
      "cell_type": "markdown",
      "source": [
        "`ConvLearner.pretrained` builds *learner* that contains a pre-trained model. The last layer of the model needs to be replaced with the layer of the right dimensions. The pretained model was trained for 1000 classes therfore the final layer predicts a vector of 1000 probabilities. The model for cats and dogs needs to output a two dimensional vector. The diagram below shows in an example how this was done in one of the earliest successful CNNs. The layer \"FC8\" here would get replaced with a new layer with 2 outputs.\n",
        "\n",
        "<img src=\"images/pretrained.png\" width=\"500\">\n",
        "[original image](https://image.slidesharecdn.com/practicaldeeplearning-160329181459/95/practical-deep-learning-16-638.jpg)"
      ]
    },
    {
      "metadata": {
        "id": "sId94KXRnUXY",
        "colab_type": "code",
        "colab": {}
      },
      "cell_type": "code",
      "source": [
        "learn = ConvLearner.pretrained(resnet34, data, precompute=True)"
      ],
      "execution_count": 0,
      "outputs": []
    },
    {
      "metadata": {
        "id": "j4OeKhbunUXZ",
        "colab_type": "text"
      },
      "cell_type": "markdown",
      "source": [
        "*Parameters*  are learned by fitting a model to the data. *Hyparameters* are another kind of parameter, that cannot be directly learned from the regular training process. These parameters express “higher-level” properties of the model such as its complexity or how fast it should learn. Two examples of hyperparameters are the *learning rate* and the *number of epochs*.\n",
        "\n",
        "During iterative training of a neural network, a *batch* or *mini-batch* is a subset of training samples used in one iteration of Stochastic Gradient Descent (SGD). An *epoch* is a single pass through the entire training set which consists of multiple iterations of SGD.\n",
        "\n",
        "We can now *fit* the model; that is, use *gradient descent* to find the best parameters for the fully connected layer we added, that can separate cat pictures from dog pictures. We need to pass two hyperameters: the *learning rate* (generally 1e-2 or 1e-3 is a good starting point, we'll look more at this next) and the *number of epochs* (you can pass in a higher number and just stop training when you see it's no longer improving, then re-run it with the number of epochs you found works well.)"
      ]
    },
    {
      "metadata": {
        "id": "cmFCz0JznUXZ",
        "colab_type": "code",
        "colab": {}
      },
      "cell_type": "code",
      "source": [
        "learn.fit(1e-2, 1)"
      ],
      "execution_count": 0,
      "outputs": []
    },
    {
      "metadata": {
        "id": "uf52htCgnUXa",
        "colab_type": "text"
      },
      "cell_type": "markdown",
      "source": [
        "## Analyzing results: loss and accuracy"
      ]
    },
    {
      "metadata": {
        "id": "npeQfEDYnUXa",
        "colab_type": "text"
      },
      "cell_type": "markdown",
      "source": [
        "When we run `learn.fit` we print 3 performance values (see above.) Here 0.03 is the value of the **loss** in the training set, 0.0226 is the value of the loss in the validation set and 0.9927 is the validation accuracy. What is the loss? What is accuracy? Why not to just show accuracy?\n",
        "\n",
        "**Accuracy** is the ratio of correct prediction to the total number of predictions.\n",
        "\n",
        "In machine learning the **loss** function or cost function is representing the price paid for inaccuracy of predictions.\n",
        "\n",
        "The loss associated with one example in binary classification is given by:\n",
        "`-(y * log(p) + (1-y) * log (1-p))`\n",
        "where `y` is the true label of `x` and `p` is the probability predicted by our model that the label is 1."
      ]
    },
    {
      "metadata": {
        "id": "yTQhR_0lnUXb",
        "colab_type": "code",
        "colab": {}
      },
      "cell_type": "code",
      "source": [
        "def binary_loss(y, p):\n",
        "    return np.mean(-(y * np.log(p) + (1-y)*np.log(1-p)))"
      ],
      "execution_count": 0,
      "outputs": []
    },
    {
      "metadata": {
        "id": "PHieJosXnUXb",
        "colab_type": "code",
        "colab": {}
      },
      "cell_type": "code",
      "source": [
        "acts = np.array([1, 0, 0, 1])\n",
        "preds = np.array([0.9, 0.1, 0.2, 0.8])\n",
        "binary_loss(acts, preds)"
      ],
      "execution_count": 0,
      "outputs": []
    },
    {
      "metadata": {
        "id": "02vQVwU4nUXc",
        "colab_type": "text"
      },
      "cell_type": "markdown",
      "source": [
        "Note that in our toy example above our accuracy is 100% and our loss is 0.16. Compare that to a loss of 0.03 that we are getting while predicting cats and dogs. Exercise: play with `preds` to get a lower loss for this example. \n",
        "\n",
        "**Example:** Here is an example on how to compute the loss for one example of binary classification problem. Suppose for an image x with label 1 and your model gives it a prediction of 0.9. For this case the loss should be small because our model is predicting a label $1$ with high probability.\n",
        "\n",
        "`loss = -log(0.9) = 0.10`\n",
        "\n",
        "Now suppose x has label 0 but our model is predicting 0.9. In this case our loss is should be much larger.\n",
        "\n",
        "loss = -log(1-0.9) = 2.30\n",
        "\n",
        "- Exercise: look at the other cases and convince yourself that this make sense.\n",
        "- Exercise: how would you rewrite `binary_loss` using `if` instead of `*` and `+`?\n",
        "\n",
        "Why not just maximize accuracy? The binary classification loss is an easier function to optimize."
      ]
    },
    {
      "metadata": {
        "id": "o0xrt_yNnUXc",
        "colab_type": "code",
        "colab": {}
      },
      "cell_type": "code",
      "source": [
        ""
      ],
      "execution_count": 0,
      "outputs": []
    }
  ]
}